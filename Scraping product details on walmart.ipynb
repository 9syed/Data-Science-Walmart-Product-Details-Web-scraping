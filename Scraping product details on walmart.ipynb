{
 "cells": [
  {
   "cell_type": "code",
   "execution_count": 35,
   "id": "054c4fd3",
   "metadata": {},
   "outputs": [],
   "source": [
    "import json\n",
    "import requests\n",
    "from bs4 import BeautifulSoup"
   ]
  },
  {
   "cell_type": "code",
   "execution_count": 36,
   "id": "b45b30c4",
   "metadata": {},
   "outputs": [],
   "source": [
    "target_url=\"https://api.scrapingdog.com/scrape?dynamic=false&url=http://www.walmart.com/ip/SAMSUNG-58-Class-4K-Crystal-UHD-2160P-LED-Smart-TV-with-HDR-UN58TU7000/820835173&api_key=635752a08fc4e26b38226434\"\n",
    "\n",
    "response = requests.get(target_url)"
   ]
  },
  {
   "cell_type": "code",
   "execution_count": 38,
   "id": "fcac4a7c",
   "metadata": {},
   "outputs": [
    {
     "name": "stdout",
     "output_type": "stream",
     "text": [
      "[{'price': '$447.99', 'name': 'SAMSUNG 58\" Class 4K Crystal UHD (2160P) LED Smart TV with HDR UN58TU7000', 'rating': '4.5', 'detail': 'SAMSUNG 58\" Class 4K Crystal UHD (2160P) LED Smart TV with HDR UN58TU7000 2020 - Get enhanced smart capabilities with the TU7000. Crystal Processor 4K automatically upscales your favorite movies, TV shows and sports events to 4K. Smart TV powered by Tizen lets you find content and navigate streaming services easily. PurColor fine tunes colors while HDR steps up to millions of shades of color that go beyond what HDTV can offer. And Direct Lit backlighting technology sharpens visuals and improves clarity.'}]\n"
     ]
    }
   ],
   "source": [
    "soup = BeautifulSoup(response.text,'html.parser')\n",
    "l=[]\n",
    "obj={}\n",
    "try:\n",
    "    obj[\"price\"] = soup.find(\"span\",{\"itemprop\":\"price\"}).text.replace(\"Now \",\"\")\n",
    "except:\n",
    "    obj[\"price\"]=None\n",
    "try:\n",
    "    obj[\"name\"] = soup.find(\"h1\",{\"itemprop\":\"name\"}).text\n",
    "except:\n",
    "    obj[\"name\"]=None\n",
    "try:\n",
    "    obj[\"rating\"] = soup.find(\"span\",{\"class\":\"rating-number\"}).text.replace(\"(\",\"\").replace(\")\",\"\")\n",
    "except:\n",
    "    obj[\"rating\"]=None\n",
    "\n",
    "nextTag = soup.find(\"script\",{\"id\":\"__NEXT_DATA__\"})\n",
    "jsonData = json.loads(nextTag.text)\n",
    "Detail = jsonData['props']['pageProps']['initialData']['data']['product']['shortDescription']\n",
    "try:\n",
    "    obj[\"detail\"] = Detail\n",
    "except:\n",
    "    obj[\"detail\"]=None\n",
    "l.append(obj)\n",
    "print(l)"
   ]
  },
  {
   "cell_type": "code",
   "execution_count": null,
   "id": "43c06690",
   "metadata": {},
   "outputs": [],
   "source": []
  }
 ],
 "metadata": {
  "kernelspec": {
   "display_name": "Python 3 (ipykernel)",
   "language": "python",
   "name": "python3"
  },
  "language_info": {
   "codemirror_mode": {
    "name": "ipython",
    "version": 3
   },
   "file_extension": ".py",
   "mimetype": "text/x-python",
   "name": "python",
   "nbconvert_exporter": "python",
   "pygments_lexer": "ipython3",
   "version": "3.9.12"
  },
  "widgets": {
   "application/vnd.jupyter.widget-state+json": {
    "state": {},
    "version_major": 2,
    "version_minor": 0
   }
  }
 },
 "nbformat": 4,
 "nbformat_minor": 5
}
